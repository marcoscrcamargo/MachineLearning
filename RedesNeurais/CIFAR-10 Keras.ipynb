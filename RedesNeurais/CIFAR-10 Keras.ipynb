{
 "cells": [
  {
   "cell_type": "code",
   "execution_count": 1,
   "metadata": {},
   "outputs": [],
   "source": [
    "# Importando bibliotecas necessárias\n",
    "import tensorflow as tf\n",
    "from tensorflow import keras\n",
    "import numpy as np\n",
    "import matplotlib.pyplot as plt"
   ]
  },
  {
   "cell_type": "code",
   "execution_count": 2,
   "metadata": {},
   "outputs": [],
   "source": [
    "def unpickle(file):\n",
    "    import pickle\n",
    "    with open(file, 'rb') as fo:\n",
    "        dict = pickle.load(fo, encoding='bytes')\n",
    "    return dict\n",
    "\n",
    "def transform_to_RGB(img_array):\n",
    "    return img_array.reshape(len(img_array), 3,32,32).transpose([0, 2, 3, 1])\n",
    "\n",
    "def normalize(x):\n",
    "    min_val = np.min(x)\n",
    "    max_val = np.max(x)\n",
    "    x = (x-min_val) / (max_val-min_val)\n",
    "    return x"
   ]
  },
  {
   "cell_type": "code",
   "execution_count": 51,
   "metadata": {},
   "outputs": [],
   "source": [
    "# Definindo número de épocas\n",
    "epochs = 15\n",
    "batch_size = 128\n",
    "\n",
    "# Definindo tamanho das imagens\n",
    "channels, img_rows, img_cols = 3, 32, 32\n",
    "img_shape = (channels, img_rows, img_cols)\n",
    "input_shape = img_shape\n",
    "### CIFAR-10 dataset ###\n",
    "\n",
    "learning_rate = 0.001\n",
    "# Definindo informações das classes\n",
    "num_classes = 10\n",
    "label_names =  ['airplane', 'automobile', 'bird', 'cat', 'deer', 'dog', 'frog', 'horse', 'ship', 'truck']\n",
    "\n",
    "\n",
    "# Carregando imagens\n",
    "batch = unpickle('cifar-10-batches-py/data_batch_1')\n",
    "data = transform_to_RGB(batch[b'data'])\n",
    "labels = np.array(batch[b'labels'])\n"
   ]
  },
  {
   "cell_type": "code",
   "execution_count": 38,
   "metadata": {
    "scrolled": true
   },
   "outputs": [],
   "source": [
    "indices = np.random.permutation(labels.shape[0])\n",
    "split = int(labels.shape[0]*0.8)\n",
    "train_idx, test_idx = indices[:split], indices[split:]\n",
    "train_images, test_images = data[train_idx, :], data[test_idx, :]\n",
    "train_labels, test_labels = labels[train_idx], labels[test_idx]\n",
    "# Convertendo os labels de entrada e saída para dummy values\n",
    "train_labels = keras.utils.to_categorical(train_labels, num_classes)\n",
    "test_labels = keras.utils.to_categorical(test_labels, num_classes)\n",
    "train_images = normalize(train_images)\n",
    "test_images = normalize(test_images)"
   ]
  },
  {
   "cell_type": "code",
   "execution_count": 31,
   "metadata": {},
   "outputs": [
    {
     "data": {
      "text/plain": [
       "<matplotlib.image.AxesImage at 0x7f813349e588>"
      ]
     },
     "execution_count": 31,
     "metadata": {},
     "output_type": "execute_result"
    },
    {
     "data": {
      "image/png": "[encoded data removed]",
      "text/plain": [
       "<Figure size 432x288 with 1 Axes>"
      ]
     },
     "metadata": {
      "needs_background": "light"
     },
     "output_type": "display_data"
    }
   ],
   "source": [
    "plt.imshow(train_images[1])"
   ]
  },
  {
   "cell_type": "code",
   "execution_count": 32,
   "metadata": {},
   "outputs": [
    {
     "data": {
      "text/plain": [
       "'horse'"
      ]
     },
     "execution_count": 32,
     "metadata": {},
     "output_type": "execute_result"
    }
   ],
   "source": [
    "label_names[train_labels[1]]"
   ]
  },
  {
   "cell_type": "code",
   "execution_count": 52,
   "metadata": {},
   "outputs": [
    {
     "name": "stdout",
     "output_type": "stream",
     "text": [
      "Convolutional Neural Network\n",
      "Epoch 1/15\n",
      "8000/8000 [==============================] - 8s 970us/step - loss: 2.1021 - acc: 0.1846\n",
      "Epoch 2/15\n",
      "8000/8000 [==============================] - 5s 626us/step - loss: 1.7318 - acc: 0.3349\n",
      "Epoch 3/15\n",
      "8000/8000 [==============================] - 5s 627us/step - loss: 1.4506 - acc: 0.4528\n",
      "Epoch 4/15\n",
      "8000/8000 [==============================] - 5s 625us/step - loss: 1.2856 - acc: 0.5245\n",
      "Epoch 5/15\n",
      "8000/8000 [==============================] - 5s 626us/step - loss: 1.0968 - acc: 0.5981\n",
      "Epoch 6/15\n",
      "8000/8000 [==============================] - 5s 624us/step - loss: 0.9568 - acc: 0.6569\n",
      "Epoch 7/15\n",
      "8000/8000 [==============================] - 5s 625us/step - loss: 0.7734 - acc: 0.7214\n",
      "Epoch 8/15\n",
      "8000/8000 [==============================] - 5s 624us/step - loss: 0.5784 - acc: 0.7985\n",
      "Epoch 9/15\n",
      "8000/8000 [==============================] - 5s 624us/step - loss: 0.5297 - acc: 0.8118\n",
      "Epoch 10/15\n",
      "8000/8000 [==============================] - 5s 624us/step - loss: 0.3362 - acc: 0.8820\n",
      "Epoch 11/15\n",
      "8000/8000 [==============================] - 5s 625us/step - loss: 0.2862 - acc: 0.8958\n",
      "Epoch 12/15\n",
      "8000/8000 [==============================] - 5s 625us/step - loss: 0.1918 - acc: 0.9344\n",
      "Epoch 13/15\n",
      "8000/8000 [==============================] - 5s 625us/step - loss: 0.1789 - acc: 0.9371\n",
      "Epoch 14/15\n",
      "8000/8000 [==============================] - 5s 626us/step - loss: 0.1351 - acc: 0.9530\n",
      "Epoch 15/15\n",
      "8000/8000 [==============================] - 5s 624us/step - loss: 0.1138 - acc: 0.9613\n",
      "2000/2000 [==============================] - 1s 686us/step\n",
      "Test accuracy: 0.584\n"
     ]
    }
   ],
   "source": [
    "print('Convolutional Neural Network')\n",
    "\n",
    "model = keras.Sequential([\n",
    "    keras.layers.Conv2D(64, kernel_size=(3, 3), activation='relu'),\n",
    "    keras.layers.MaxPooling2D(pool_size=(2, 2)),\n",
    "    keras.layers.BatchNormalization(),\n",
    "\n",
    "    keras.layers.Conv2D(128, kernel_size=(3, 3), activation='relu'),\n",
    "    keras.layers.MaxPooling2D(pool_size=(2, 2)),\n",
    "    keras.layers.BatchNormalization(),\n",
    "\n",
    "    keras.layers.Conv2D(256, kernel_size=(3, 3), activation='relu'),\n",
    "    keras.layers.MaxPooling2D(pool_size=(2, 2)),\n",
    "    keras.layers.BatchNormalization(),\n",
    "\n",
    "    keras.layers.Flatten(),\n",
    "\n",
    "    keras.layers.Dense(128, activation='relu'),\n",
    "    keras.layers.Dropout(0.5),\n",
    "    keras.layers.BatchNormalization(),\n",
    "\n",
    "    \n",
    "    keras.layers.Dense(256, activation='relu'),\n",
    "    keras.layers.Dropout(0.5),\n",
    "    keras.layers.BatchNormalization(),\n",
    "\n",
    "    keras.layers.Dense(512, activation='relu'),\n",
    "    keras.layers.Dropout(0.5),\n",
    "    keras.layers.BatchNormalization(),\n",
    "\n",
    "    keras.layers.Dense(1024, activation='relu'),\n",
    "    keras.layers.Dropout(0.5),\n",
    "    keras.layers.BatchNormalization(),\n",
    "\n",
    "    keras.layers.Dense(num_classes, activation='softmax')\n",
    "])\n",
    "\n",
    "model.compile(loss=keras.losses.categorical_crossentropy,\n",
    "              optimizer=keras.optimizers.Adam(learning_rate),\n",
    "              metrics=['accuracy'])\n",
    "\n",
    "model.fit(train_images, train_labels,\n",
    "          batch_size=batch_size,\n",
    "          epochs=epochs,\n",
    "          verbose=1,\n",
    "         )\n",
    "\n",
    "test_loss, test_acc = model.evaluate(test_images, test_labels)\n",
    " \n",
    "print('Test accuracy:', test_acc)"
   ]
  }
 ],
 "metadata": {
  "kernelspec": {
   "display_name": "Python 3",
   "language": "python",
   "name": "python3"
  },
  "language_info": {
   "codemirror_mode": {
    "name": "ipython",
    "version": 3
   },
   "file_extension": ".py",
   "mimetype": "text/x-python",
   "name": "python",
   "nbconvert_exporter": "python",
   "pygments_lexer": "ipython3",
   "version": "3.6.6"
  }
 },
 "nbformat": 4,
 "nbformat_minor": 2
}
