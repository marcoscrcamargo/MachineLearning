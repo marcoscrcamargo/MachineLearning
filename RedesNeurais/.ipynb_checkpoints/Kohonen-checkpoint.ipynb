{
 "cells": [
  {
   "cell_type": "code",
   "execution_count": 285,
   "metadata": {},
   "outputs": [
    {
     "data": {
      "text/plain": [
       "array([[3., 3.],\n",
       "       [3., 3.]])"
      ]
     },
     "execution_count": 285,
     "metadata": {},
     "output_type": "execute_result"
    }
   ],
   "source": [
    "import numpy as np\n",
    "import pandas as pd\n",
    "class Kohonen(object):\n",
    "    \n",
    "    def __init__(self, layer_size, epochs, sigma, alpha):\n",
    "        self.ls = layer_size\n",
    "        self.epochs = epochs\n",
    "        self.sigma = sigma\n",
    "        self.alpha = alpha\n",
    "\n",
    "    \n",
    "    def architecture(self):\n",
    "        self.w = np.random.uniform(-0.5, 0.5, size=(self.ls, self.ls, self.xs))\n",
    "        self.time = self.epochs/np.log(self.sigma)\n",
    "        \n",
    "    \n",
    "    def train(self, X):\n",
    "        self.xs = X.shape[1]\n",
    "        self.architecture()\n",
    "        alpha = self.alpha\n",
    "        sigma = self.sigma\n",
    "        for epoch in range(self.epochs):\n",
    "            sigma = self.sigma * np.exp(-epoch/self.time)\n",
    "            alpha = self.alpha * np.exp(-epoch/self.time)\n",
    "\n",
    "            for x in X:\n",
    "                D = np.linalg.norm(x-self.w, axis=2)\n",
    "                r, c = np.unravel_index(D.argmin(), D.shape)\n",
    "\n",
    "                I = np.repeat(np.arange(self.ls), self.ls).reshape((self.ls, self.ls))\n",
    "                J = I.copy().T\n",
    "                radial = np.exp(-(np.power(I-r, 2) + np.power(J-c, 2))/(2*np.power(sigma,2)))\n",
    "                for (i, j) in np.ndindex(self.ls, self.ls):\n",
    "                    self.w[i, j] += alpha*radial[i, j]*(x - self.w[i, j])\n",
    "\n",
    "\n",
    "    def get_map(self, X, y):\n",
    "        self.map = np.zeros((self.ls, self.ls))\n",
    "        for i, j in np.ndindex((self.ls, self.ls)):\n",
    "            D = np.linalg.norm(X-self.w[i, j], axis=1)\n",
    "            J = D.argmin()\n",
    "            self.map[i, j] = y[J]\n",
    "        return self.map.copy()\n",
    "\n",
    "\n",
    "x = np.array([[1, 1, 0, 0], [0, 0, 0, 1], [1, 0, 0, 0],[0, 0, 1, 1]])\n",
    "\n",
    "sigma = 5\n",
    "alpha = 0.6\n",
    "layer_size = 2\n",
    "epochs = 1\n",
    "\n",
    "SOM = Kohonen(layer_size, epochs, sigma, alpha)\n",
    "SOM.train(x)\n",
    "SOM.get_map(x, [0, 1, 2, 3])"
   ]
  },
  {
   "cell_type": "code",
   "execution_count": 288,
   "metadata": {},
   "outputs": [
    {
     "data": {
      "text/plain": [
       "array([[2., 1., 2., 0., 0., 0., 0., 0., 0., 0.],\n",
       "       [1., 2., 2., 2., 0., 0., 0., 0., 0., 0.],\n",
       "       [2., 1., 1., 2., 1., 0., 0., 0., 0., 0.],\n",
       "       [2., 2., 1., 2., 2., 0., 0., 0., 0., 0.],\n",
       "       [1., 2., 2., 2., 2., 1., 0., 0., 0., 0.],\n",
       "       [2., 2., 2., 2., 2., 0., 0., 0., 0., 0.],\n",
       "       [1., 2., 1., 2., 2., 2., 0., 0., 0., 0.],\n",
       "       [1., 1., 1., 2., 2., 1., 2., 0., 0., 0.],\n",
       "       [1., 1., 1., 1., 2., 2., 2., 2., 0., 0.],\n",
       "       [1., 1., 1., 2., 2., 2., 2., 2., 0., 1.]])"
      ]
     },
     "execution_count": 288,
     "metadata": {},
     "output_type": "execute_result"
    }
   ],
   "source": [
    "from sklearn import datasets\n",
    "wine = datasets.load_wine()\n",
    "wine = pd.DataFrame(data= np.c_[wine['data'], wine['target']], columns= wine['feature_names'] + ['target'])\n",
    "x = wine[wine.columns[:-1]].values\n",
    "y = wine[wine.columns[-1]].values\n",
    "# x = (x - x.min())/(x.max()-x.min())\n",
    "\n",
    "sigma = 5\n",
    "alpha = 0.1\n",
    "layer_size = 10\n",
    "epochs = 100\n",
    "\n",
    "SOM = Kohonen(layer_size, epochs, sigma, alpha)\n",
    "SOM.train(x)\n",
    "SOM.get_map(x, y)"
   ]
  }
 ],
 "metadata": {
  "kernelspec": {
   "display_name": "Python 3",
   "language": "python",
   "name": "python3"
  },
  "language_info": {
   "codemirror_mode": {
    "name": "ipython",
    "version": 3
   },
   "file_extension": ".py",
   "mimetype": "text/x-python",
   "name": "python",
   "nbconvert_exporter": "python",
   "pygments_lexer": "ipython3",
   "version": "3.7.0"
  }
 },
 "nbformat": 4,
 "nbformat_minor": 2
}
