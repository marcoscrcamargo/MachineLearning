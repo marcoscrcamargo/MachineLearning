{
 "cells": [
  {
   "cell_type": "markdown",
   "metadata": {},
   "source": [
    "# Atividade Prática 7\n",
    "\n",
    ">### Igor Martinelli           9006336\n",
    "\n",
    ">### Zoltán Hirata Jetsmen     9293272\n",
    "\n",
    "## Para a presente prática será escolhido o conjunto de dados wine, que é um conjunto de dados de classificação que ja fora utilizado nas práticas anteriores. Além disso, será removido os exemplos da classe 3, de modo a tornar o problema binário."
   ]
  },
  {
   "cell_type": "code",
   "execution_count": 1,
   "metadata": {},
   "outputs": [],
   "source": [
    "from sklearn.metrics import average_precision_score, confusion_matrix, accuracy_score, roc_auc_score, roc_curve, auc, f1_score\n",
    "from sklearn.model_selection import train_test_split\n",
    "from sklearn import preprocessing, datasets\n",
    "import matplotlib.pyplot as plt\n",
    "from scipy import stats\n",
    "import pandas as pd\n",
    "import numpy as np"
   ]
  },
  {
   "cell_type": "code",
   "execution_count": 2,
   "metadata": {},
   "outputs": [
    {
     "data": {
      "text/html": [
       "<div>\n",
       "<style scoped>\n",
       "    .dataframe tbody tr th:only-of-type {\n",
       "        vertical-align: middle;\n",
       "    }\n",
       "\n",
       "    .dataframe tbody tr th {\n",
       "        vertical-align: top;\n",
       "    }\n",
       "\n",
       "    .dataframe thead th {\n",
       "        text-align: right;\n",
       "    }\n",
       "</style>\n",
       "<table border=\"1\" class=\"dataframe\">\n",
       "  <thead>\n",
       "    <tr style=\"text-align: right;\">\n",
       "      <th></th>\n",
       "      <th>alcohol</th>\n",
       "      <th>malic_acid</th>\n",
       "      <th>ash</th>\n",
       "      <th>alcalinity_of_ash</th>\n",
       "      <th>magnesium</th>\n",
       "      <th>total_phenols</th>\n",
       "      <th>flavanoids</th>\n",
       "      <th>nonflavanoid_phenols</th>\n",
       "      <th>proanthocyanins</th>\n",
       "      <th>color_intensity</th>\n",
       "      <th>hue</th>\n",
       "      <th>od280/od315_of_diluted_wines</th>\n",
       "      <th>proline</th>\n",
       "      <th>target</th>\n",
       "    </tr>\n",
       "  </thead>\n",
       "  <tbody>\n",
       "    <tr>\n",
       "      <th>0</th>\n",
       "      <td>14.23</td>\n",
       "      <td>1.71</td>\n",
       "      <td>2.43</td>\n",
       "      <td>15.6</td>\n",
       "      <td>127.0</td>\n",
       "      <td>2.80</td>\n",
       "      <td>3.06</td>\n",
       "      <td>0.28</td>\n",
       "      <td>2.29</td>\n",
       "      <td>5.64</td>\n",
       "      <td>1.04</td>\n",
       "      <td>3.92</td>\n",
       "      <td>1065.0</td>\n",
       "      <td>0.0</td>\n",
       "    </tr>\n",
       "    <tr>\n",
       "      <th>1</th>\n",
       "      <td>13.20</td>\n",
       "      <td>1.78</td>\n",
       "      <td>2.14</td>\n",
       "      <td>11.2</td>\n",
       "      <td>100.0</td>\n",
       "      <td>2.65</td>\n",
       "      <td>2.76</td>\n",
       "      <td>0.26</td>\n",
       "      <td>1.28</td>\n",
       "      <td>4.38</td>\n",
       "      <td>1.05</td>\n",
       "      <td>3.40</td>\n",
       "      <td>1050.0</td>\n",
       "      <td>0.0</td>\n",
       "    </tr>\n",
       "    <tr>\n",
       "      <th>2</th>\n",
       "      <td>13.16</td>\n",
       "      <td>2.36</td>\n",
       "      <td>2.67</td>\n",
       "      <td>18.6</td>\n",
       "      <td>101.0</td>\n",
       "      <td>2.80</td>\n",
       "      <td>3.24</td>\n",
       "      <td>0.30</td>\n",
       "      <td>2.81</td>\n",
       "      <td>5.68</td>\n",
       "      <td>1.03</td>\n",
       "      <td>3.17</td>\n",
       "      <td>1185.0</td>\n",
       "      <td>0.0</td>\n",
       "    </tr>\n",
       "    <tr>\n",
       "      <th>3</th>\n",
       "      <td>14.37</td>\n",
       "      <td>1.95</td>\n",
       "      <td>2.50</td>\n",
       "      <td>16.8</td>\n",
       "      <td>113.0</td>\n",
       "      <td>3.85</td>\n",
       "      <td>3.49</td>\n",
       "      <td>0.24</td>\n",
       "      <td>2.18</td>\n",
       "      <td>7.80</td>\n",
       "      <td>0.86</td>\n",
       "      <td>3.45</td>\n",
       "      <td>1480.0</td>\n",
       "      <td>0.0</td>\n",
       "    </tr>\n",
       "    <tr>\n",
       "      <th>4</th>\n",
       "      <td>13.24</td>\n",
       "      <td>2.59</td>\n",
       "      <td>2.87</td>\n",
       "      <td>21.0</td>\n",
       "      <td>118.0</td>\n",
       "      <td>2.80</td>\n",
       "      <td>2.69</td>\n",
       "      <td>0.39</td>\n",
       "      <td>1.82</td>\n",
       "      <td>4.32</td>\n",
       "      <td>1.04</td>\n",
       "      <td>2.93</td>\n",
       "      <td>735.0</td>\n",
       "      <td>0.0</td>\n",
       "    </tr>\n",
       "  </tbody>\n",
       "</table>\n",
       "</div>"
      ],
      "text/plain": [
       "   alcohol  malic_acid   ash  alcalinity_of_ash  magnesium  total_phenols  \\\n",
       "0    14.23        1.71  2.43               15.6      127.0           2.80   \n",
       "1    13.20        1.78  2.14               11.2      100.0           2.65   \n",
       "2    13.16        2.36  2.67               18.6      101.0           2.80   \n",
       "3    14.37        1.95  2.50               16.8      113.0           3.85   \n",
       "4    13.24        2.59  2.87               21.0      118.0           2.80   \n",
       "\n",
       "   flavanoids  nonflavanoid_phenols  proanthocyanins  color_intensity   hue  \\\n",
       "0        3.06                  0.28             2.29             5.64  1.04   \n",
       "1        2.76                  0.26             1.28             4.38  1.05   \n",
       "2        3.24                  0.30             2.81             5.68  1.03   \n",
       "3        3.49                  0.24             2.18             7.80  0.86   \n",
       "4        2.69                  0.39             1.82             4.32  1.04   \n",
       "\n",
       "   od280/od315_of_diluted_wines  proline  target  \n",
       "0                          3.92   1065.0     0.0  \n",
       "1                          3.40   1050.0     0.0  \n",
       "2                          3.17   1185.0     0.0  \n",
       "3                          3.45   1480.0     0.0  \n",
       "4                          2.93    735.0     0.0  "
      ]
     },
     "execution_count": 2,
     "metadata": {},
     "output_type": "execute_result"
    }
   ],
   "source": [
    "wine = datasets.load_wine()\n",
    "wine = pd.DataFrame(data= np.c_[wine['data'], wine['target']],\n",
    "                     columns= wine['feature_names'] + ['target'])\n",
    "\n",
    "wine.head()"
   ]
  },
  {
   "cell_type": "markdown",
   "metadata": {},
   "source": [
    ">### Eliminando os exemplos da classe 2 de modo a tornar o problema binário."
   ]
  },
  {
   "cell_type": "code",
   "execution_count": 3,
   "metadata": {},
   "outputs": [],
   "source": [
    " wine = wine[(wine.target == 0) | (wine.target == 1)]"
   ]
  },
  {
   "cell_type": "markdown",
   "metadata": {},
   "source": [
    "## Função de classificação fornecida"
   ]
  },
  {
   "cell_type": "code",
   "execution_count": 4,
   "metadata": {},
   "outputs": [],
   "source": [
    "from sklearn.svm import SVC, SVR\n",
    "from sklearn.tree import DecisionTreeClassifier, DecisionTreeRegressor\n",
    "from sklearn.neighbors import KNeighborsClassifier, KNeighborsRegressor\n",
    "from sklearn.linear_model import Perceptron\n",
    "\n",
    "from sklearn.model_selection import KFold\n",
    "from sklearn.metrics import mean_squared_error\n",
    "from numpy import mean, std\n",
    "\n",
    "from sklearn.metrics import accuracy_score\n",
    "\n",
    "import warnings\n",
    "warnings.filterwarnings('ignore')\n",
    "\n",
    "def classificacao(data, columns, target, score=accuracy_score, score_name='acurácia', \n",
    "                  folds=10, plot=True):\n",
    "    \"\"\"\n",
    "    Executa classificação do conjunto de dados passado\n",
    "    ---------------------------------------------------------------\n",
    "    data:       DataFrame. Conjunto de dados\n",
    "    columns:    Lista de inteiros. Índice das colunas utilizadas no treinamento e teste\n",
    "    target:     Inteiro. Índice da coluna alvo\n",
    "    score:      Função. A função que calcula a medida de desempenho desejada. Deve ser uma \n",
    "                função que compara dois vetores, o primeiro vetor são os valores preditos\n",
    "                pelo classificador, o segundo os rótulos reais\n",
    "                Vide exemplo das funções em \n",
    "                http://scikit-learn.org/stable/modules/classes.html#module-sklearn.metrics\n",
    "                como por exemplo, sklearn.metrics.accuracy_score\n",
    "                http://scikit-learn.org/stable/modules/generated/sklearn.metrics.accuracy_score.html\n",
    "    score_name: String. Uma string com o nome da medida de desempenho\n",
    "    folds:      Inteiro. Número de folds na validação cruzada\n",
    "    plot:       Booleano. True para plotar os gráficos False para não plotar\n",
    "    ---------------------------------------------------------------\n",
    "    Realiza a classificação em 6 modelos (perceptron, \n",
    "    SVM com kernel polinomial de grau 3, Árvore de decisão, 3NN, 5NN, e 7NN)\n",
    "    Plot o gráfico de desempenho para cada classificador.\n",
    "    Retorna um dicionário com os classificadores treinados e as medidas de desempenho\n",
    "    \"\"\"\n",
    "    import numpy as np\n",
    "    # inicializa os modelos com os parâmetros solicitados\n",
    "    prcp = Perceptron()\n",
    "    #svm_n = SVC(C=10*len(data), kernel='poly', degree=3, gamma=1, coef0=1, cache_size=500, max_iter=1e6)\n",
    "    dt = DecisionTreeClassifier(criterion='gini', splitter='best', min_samples_split=int(len(data)*0.1))\n",
    "    _3nn = KNeighborsClassifier(n_neighbors=3, weights='uniform', algorithm='auto')\n",
    "    _5nn = KNeighborsClassifier(n_neighbors=5, weights='uniform', algorithm='auto')\n",
    "    _7nn = KNeighborsClassifier(n_neighbors=7, weights='uniform', algorithm='auto')\n",
    "    \n",
    "    clfs = [prcp, dt, _3nn, _5nn, _7nn]\n",
    "    clfs_names = ['perceptron', 'dt', '3nn', '5nn', '7nn']\n",
    "    \n",
    "    # prepara validação cruzada\n",
    "    # faz divisão do dataset em 5 partes\n",
    "    cv = KFold(n_splits=folds, shuffle=True)\n",
    "    \n",
    "    # itera para cada classificador fazendo treino e teste\n",
    "    results = {'perceptron':[], 'dt':[], '3nn':[], '5nn':[], '7nn':[], 'y_pred':[[]], 'y_test':[[]]}\n",
    "    for c, c_name in zip(clfs, clfs_names):\n",
    "        for train_index, test_index in cv.split(data):\n",
    "            ypred = []\n",
    "            ytest = []\n",
    "                  \n",
    "            # separa conjunto de treino e de teste\n",
    "            x_train, y_train = data.iloc[train_index, columns], data.iloc[train_index, target]\n",
    "            x_test, y_test = data.iloc[test_index, columns], data.iloc[test_index, target]\n",
    "            \n",
    "            # faz o treino do modelo\n",
    "            clf = c.fit(X=x_train, y=y_train)\n",
    "            \n",
    "            # valores predito pelo classificador\n",
    "            y_pred = clf.predict(x_test)\n",
    "            # rótulos verdadeiros convertidos para array\n",
    "            y_test = np.array(y_test)\n",
    "            \n",
    "            # realiza predição no conjunto de teste e salva o resultado\n",
    "            results[c_name].append( score(y_test, y_pred) )\n",
    "            \n",
    "            ypred.append(y_pred)\n",
    "            ytest.append(y_test)\n",
    "        results['y_pred'].append(ypred)\n",
    "        results['y_test'].append(ytest)\n",
    "    if not plot:\n",
    "        return {'results': results, 'clfs':clfs}\n",
    "    # faz o plot de desempenho dos classificadores\n",
    "    plt.figure(figsize=(8,8))\n",
    "    plt.bar(range(1, len(clfs)+1), [mean(results[name]) for name in clfs_names], \n",
    "                                yerr=[std(results[name]) for name in clfs_names])\n",
    "    plt.xticks(range(1, len(clfs)+1), clfs_names, rotation=45)\n",
    "    title = 'Desempenho dos classificadores - %s'%(score_name)\n",
    "    plt.title(title)\n",
    "    plt.show()\n",
    "    \n",
    "    return {'results': results, 'clfs':clfs}\n",
    "\n"
   ]
  },
  {
   "cell_type": "markdown",
   "metadata": {},
   "source": [
    ">## 1 - Ten fold cross validation\n",
    "\n",
    ">>### Para o cálculo das medidas, será utilizada a matriz de confusão obtida na prática anterior."
   ]
  },
  {
   "cell_type": "code",
   "execution_count": 5,
   "metadata": {},
   "outputs": [
    {
     "data": {
      "image/png": "[encoded data removed]",
      "text/plain": [
       "<Figure size 576x576 with 1 Axes>"
      ]
     },
     "metadata": {},
     "output_type": "display_data"
    },
    {
     "name": "stdout",
     "output_type": "stream",
     "text": [
      "Matriz de confusão do classificador 1\n",
      "[[7 0]\n",
      " [5 1]]\n",
      "\n",
      "Matriz de confusão do classificador 2\n",
      "[[5 0]\n",
      " [1 7]]\n",
      "\n",
      "Matriz de confusão do classificador 3\n",
      "[[4 1]\n",
      " [0 8]]\n",
      "\n",
      "Matriz de confusão do classificador 4\n",
      "[[7 0]\n",
      " [0 6]]\n",
      "\n",
      "Matriz de confusão do classificador 5\n",
      "[[4 0]\n",
      " [3 6]]\n",
      "\n"
     ]
    }
   ],
   "source": [
    "target = len(wine.columns) -1\n",
    "columns = list(range(5))\n",
    "clf_acc = classificacao(wine, columns, target, accuracy_score, 'acurácia do sklearn', folds=10)\n",
    "\n",
    "cms = []\n",
    "for i in range(5):\n",
    "    print('Matriz de confusão do classificador ' + str(i+1))\n",
    "    print(confusion_matrix(clf_acc['results']['y_test'][i+1][0], clf_acc['results']['y_pred'][i+1][0]))\n",
    "    cms.append(confusion_matrix(clf_acc['results']['y_test'][i+1][0], clf_acc['results']['y_pred'][i+1][0]))\n",
    "    print()"
   ]
  },
  {
   "cell_type": "markdown",
   "metadata": {},
   "source": [
    "# Medidas de avalicação"
   ]
  },
  {
   "cell_type": "code",
   "execution_count": 10,
   "metadata": {},
   "outputs": [
    {
     "name": "stdout",
     "output_type": "stream",
     "text": [
      "Classificador:  1\n",
      "\n",
      "   Acurácia: 0.61538\n",
      "   Recall: 0.58333\n",
      "   Precisão: 1.00000\n",
      "   Sensibilidade: 0.58333\n",
      "   Especificidade: 1.00000\n",
      "\n",
      "Classificador:  2\n",
      "\n",
      "   Acurácia: 0.92308\n",
      "   Recall: 0.83333\n",
      "   Precisão: 1.00000\n",
      "   Sensibilidade: 0.83333\n",
      "   Especificidade: 1.00000\n",
      "\n",
      "Classificador:  3\n",
      "\n",
      "   Acurácia: 0.92308\n",
      "   Recall: 1.00000\n",
      "   Precisão: 0.80000\n",
      "   Sensibilidade: 1.00000\n",
      "   Especificidade: 0.88889\n",
      "\n",
      "Classificador:  4\n",
      "\n",
      "   Acurácia: 1.00000\n",
      "   Recall: 1.00000\n",
      "   Precisão: 1.00000\n",
      "   Sensibilidade: 1.00000\n",
      "   Especificidade: 1.00000\n",
      "\n",
      "Classificador:  5\n",
      "\n",
      "   Acurácia: 0.76923\n",
      "   Recall: 0.57143\n",
      "   Precisão: 1.00000\n",
      "   Sensibilidade: 0.57143\n",
      "   Especificidade: 1.00000\n",
      "\n"
     ]
    }
   ],
   "source": [
    "for i in range(5):\n",
    "    print('Classificador: ', (i+1))\n",
    "    print()\n",
    "    acc = (cms[i][0][0]+cms[i][1][1])/np.sum(cms[i])\n",
    "    recall = (cms[i][0][0])/(cms[i][0][0]+cms[i][1][0])\n",
    "    precision = (cms[i][0][0])/(cms[i][0][0]+cms[i][0][1])\n",
    "    sensitivity = (cms[i][0][0])/(cms[i][0][0]+cms[i][1][0])\n",
    "    specificity = (cms[i][1][1])/(cms[i][1][1]+cms[i][0][1])\n",
    "    \n",
    "    print('   Acurácia: %0.5f' % acc)\n",
    "    print('   Recall: %0.5f' % recall)\n",
    "    print('   Precisão: %0.5f' % precision)\n",
    "    print('   Sensibilidade: %0.5f' % sensitivity)\n",
    "    print('   Especificidade: %0.5f' % specificity)\n",
    "    print()"
   ]
  },
  {
   "cell_type": "markdown",
   "metadata": {},
   "source": [
    ">## As medidas de avaliação foram calculadas com base nas matrizes de confusão calculadas na prática anterior.\n",
    "\n",
    ">>## Quanto a acurácia, o classificador perceptron foi muito ruim com relação aos outrps, sendo que o 2 (decison tree) e o 3 (3-nn) foram os melhores.\n",
    "\n",
    ">>## No recall, assim como na acurácia os classificadores 2 e 3 tiveram as melhoras medidas, sendo que as do 4 e 5 foram iguais e a do 1, ruim.\n",
    "\n",
    ">>## Na precisão, vemos que apenas o classificador 5 teve um desempenho ruim, sendo que os demais, classificaram com 100% de certeza os exemplos positivos como sendo, de fato, positivos.\n",
    "\n",
    ">>## Na sensibilidade vemos a porcentagem dos exemplos positivos que foram classificados como positivos e, podemos ver que o classificador 2 e 3 obteve melhores resultados novamente.\n",
    "\n",
    ">>## Para a especificidade, podemos observar que, no geral, todos os classificadores foram bons, com exceção do primeiro que, por conter valores 0 na segunda coluna da matriz de confusão (FP e TN), não foi possível calcular a medida para o mesmo.\n",
    "\n",
    ">## No geral, foi possível perceber que o classificador 1 (perceptron) é o pior de todos para este conjunto de dados, enquanto que o classificador 2 e 3 tiveram os valores das medidas muito bons."
   ]
  },
  {
   "cell_type": "markdown",
   "metadata": {},
   "source": [
    ">## 2 - Curva ROC e AUC"
   ]
  },
  {
   "cell_type": "code",
   "execution_count": 6,
   "metadata": {},
   "outputs": [],
   "source": [
    "def classification(dataset):\n",
    "    X = dataset.iloc[:, 0:-1]\n",
    "    y = dataset.iloc[:, -1]\n",
    "    X_train, X_test, y_train, y_test = train_test_split(X, y, test_size=0.2, random_state=0)\n",
    "    \n",
    "    decision_tree = DecisionTreeClassifier(criterion='gini', \n",
    "                                                    splitter='best', \n",
    "                                                    min_samples_split=int(len(dataset)*0.1))\n",
    "    \n",
    "    knn_5 = KNeighborsClassifier(n_neighbors=5, weights='uniform', algorithm='auto')\n",
    "    \n",
    "    decisition_tree_classifier = decision_tree.fit(X=X_train, y=y_train)\n",
    "    knn_5_classifier = knn_5.fit(X=X_train, y=y_train)\n",
    "    \n",
    "    y_pred_knn = knn_5_classifier.predict_proba(X_test)\n",
    "    y_pred_decision_tree = decisition_tree_classifier.predict_proba(X_test)\n",
    "\n",
    "    # rótulos verdadeiros convertidos para array\n",
    "    y_test = np.array(y_test)\n",
    "    \n",
    "    return {'y_knn': y_pred_knn, 'y_dt': y_pred_decision_tree, 'y_true': y_test}"
   ]
  },
  {
   "cell_type": "markdown",
   "metadata": {},
   "source": [
    "## Dicionário com os valores dos classificadores knn com 5 vizinhos e decision tree, com  80% para treino e 20% dos exemplos para teste"
   ]
  },
  {
   "cell_type": "code",
   "execution_count": 7,
   "metadata": {},
   "outputs": [],
   "source": [
    "y = classification(wine)"
   ]
  },
  {
   "cell_type": "code",
   "execution_count": 8,
   "metadata": {},
   "outputs": [
    {
     "name": "stdout",
     "output_type": "stream",
     "text": [
      "AUC para o algoritmo KNN (5-NN): 0.9848\n",
      "AUC para o algoritmo Decision tree: 1.0000\n"
     ]
    }
   ],
   "source": [
    "fpr_knn, tpr_knn, _ = roc_curve(y_true=y['y_true'], y_score=y['y_knn'][:, 1])\n",
    "fpr_dt, tpr_dt, _ = roc_curve(y_true=y['y_true'], y_score=y['y_dt'][:, 1])\n",
    "\n",
    "auc_knn = roc_auc_score(y_true=y['y_true'], y_score=y['y_knn'][:, 1])\n",
    "auc_dt = roc_auc_score(y_true=y['y_true'], y_score=y['y_dt'][:, 1])\n",
    "\n",
    "print('AUC para o algoritmo KNN (5-NN): %0.4f' % auc_knn)\n",
    "print('AUC para o algoritmo Decision tree: %0.4f' % auc_dt)"
   ]
  },
  {
   "cell_type": "markdown",
   "metadata": {},
   "source": [
    "# Curva ROC para o KNN"
   ]
  },
  {
   "cell_type": "code",
   "execution_count": 13,
   "metadata": {},
   "outputs": [
    {
     "data": {
      "image/png": "[encoded data removed]",
      "text/plain": [
       "<Figure size 1440x576 with 2 Axes>"
      ]
     },
     "metadata": {},
     "output_type": "display_data"
    }
   ],
   "source": [
    "f = plt.figure(figsize=(20,8))\n",
    "f.add_subplot(121)\n",
    "plt.plot(fpr_knn, tpr_knn, color='darkorange', label='ROC curve (area = %0.4f)' % auc_knn)\n",
    "plt.plot([0, 1], [0, 1], color='navy', linestyle='--')\n",
    "plt.xlim([0.0, 1.0])\n",
    "plt.ylim([0.0, 1.05])\n",
    "plt.xlabel('False Positive Rate')\n",
    "plt.ylabel('True Positive Rate')\n",
    "plt.title('Receiver operating characteristic (ROC) for KNN(5-NN) Classifier')\n",
    "plt.legend(loc=\"lower right\")\n",
    "\n",
    "f.add_subplot(122)\n",
    "plt.plot(fpr_dt, tpr_dt, color='darkorange', label='ROC curve (area = %0.4f)' % auc_dt)\n",
    "plt.plot([0, 1], [0, 1], color='navy', linestyle='--')\n",
    "plt.xlim([0.0, 1.0])\n",
    "plt.ylim([0.0, 1.05])\n",
    "plt.xlabel('False Positive Rate')\n",
    "plt.ylabel('True Positive Rate')\n",
    "plt.title('Receiver operating characteristic (ROC) for Decision Tree Classifier')\n",
    "plt.legend(loc=\"lower right\")\n",
    "plt.rcParams.update({'font.size': 15})\n",
    "plt.show()"
   ]
  },
  {
   "cell_type": "markdown",
   "metadata": {},
   "source": [
    "># 3 - Desempenho dos classificadores"
   ]
  },
  {
   "cell_type": "markdown",
   "metadata": {},
   "source": [
    ">>## Com base nas curvas ROC e na área abaixo das curvas (AUC), podemos observar, para os algoritmos selecionados (Decision tree e 5-NN) que a área abaixo da curva teve um valor de aproximadamente 98,5% e 95,5%, o que é um cenário muito bom, pois, quanto mais próximo de 100%, isso significa que mais distante a curva ROC tende a estar da linha que representa a metade do gráfico, indicando uma eficiência muito grande no classificador utilizado. A AUC sintetiza a curva ROC nesse sentido, de que sua área indica bem a distância da curva para com a linha central"
   ]
  },
  {
   "cell_type": "markdown",
   "metadata": {},
   "source": [
    "># 4 - Testes estatísticos"
   ]
  },
  {
   "cell_type": "markdown",
   "metadata": {},
   "source": [
    "## Executando novamente a classificação com ten fold cross validation. Obs: apenas utilizou-se da função, no entanto, serão utilizados, para o teste, apenas dois classificadores, que são os mesmos utilizados na etapa 2."
   ]
  },
  {
   "cell_type": "code",
   "execution_count": 14,
   "metadata": {},
   "outputs": [
    {
     "data": {
      "image/png": "[encoded data removed]",
      "text/plain": [
       "<Figure size 576x576 with 1 Axes>"
      ]
     },
     "metadata": {},
     "output_type": "display_data"
    }
   ],
   "source": [
    "classifier = classificacao(wine, columns, target, accuracy_score, 'acurácia do sklearn', folds=10)"
   ]
  },
  {
   "cell_type": "code",
   "execution_count": 16,
   "metadata": {},
   "outputs": [],
   "source": [
    "knn_5 = classifier['results']['5nn']\n",
    "dt = classifier['results']['dt']"
   ]
  },
  {
   "cell_type": "code",
   "execution_count": 28,
   "metadata": {},
   "outputs": [],
   "source": [
    "np.random.seed(12345678)"
   ]
  },
  {
   "cell_type": "code",
   "execution_count": 29,
   "metadata": {
    "scrolled": true
   },
   "outputs": [
    {
     "name": "stdout",
     "output_type": "stream",
     "text": [
      "Ttest_indResult(statistic=-4.146568442790526, pvalue=0.0006060805501072225)\n"
     ]
    }
   ],
   "source": [
    "print(stats.ttest_ind(knn_5, dt))"
   ]
  },
  {
   "cell_type": "markdown",
   "metadata": {},
   "source": [
    "## Como o p-valor obtido e igual a ~0.0006, rejeita-se a hipótese nula, dessa maneira pode-se concluir que os algoritmos são, de fato, diferentes e que, o algoritmo knn, com cinco vizinhos, é pior do que o de árvore de decisão, pois, como a estatística obteve um valor negativo, isso indica que a 'média' de acurácias do primeiro classificador é menor do que a do segundo, se considerarmos uma distribuição normal para eles. "
   ]
  },
  {
   "cell_type": "code",
   "execution_count": 35,
   "metadata": {},
   "outputs": [
    {
     "data": {
      "text/plain": [
       "4.5"
      ]
     },
     "execution_count": 35,
     "metadata": {},
     "output_type": "execute_result"
    }
   ],
   "source": [
    "np.arange(10).mean()"
   ]
  },
  {
   "cell_type": "code",
   "execution_count": 34,
   "metadata": {},
   "outputs": [
    {
     "name": "stdout",
     "output_type": "stream",
     "text": [
      "Ttest_indResult(statistic=4.431293675255978, pvalue=0.00032237096323401484)\n"
     ]
    }
   ],
   "source": [
    "print(stats.ttest_ind(np.arange(10), np.arange(10)-6))"
   ]
  },
  {
   "cell_type": "code",
   "execution_count": 40,
   "metadata": {},
   "outputs": [
    {
     "data": {
      "text/plain": [
       "Ttest_indResult(statistic=-2.440263759933568, pvalue=0.020077101757031455)"
      ]
     },
     "execution_count": 40,
     "metadata": {},
     "output_type": "execute_result"
    }
   ],
   "source": [
    "from scipy.stats import ttest_ind_from_stats\n",
    "\n",
    "ttest_ind_from_stats(1.3, 0.5, 22, 1.6, 0.3, 24, equal_var=False)"
   ]
  }
 ],
 "metadata": {
  "kernelspec": {
   "display_name": "Python 3",
   "language": "python",
   "name": "python3"
  },
  "language_info": {
   "codemirror_mode": {
    "name": "ipython",
    "version": 3
   },
   "file_extension": ".py",
   "mimetype": "text/x-python",
   "name": "python",
   "nbconvert_exporter": "python",
   "pygments_lexer": "ipython3",
   "version": "3.7.0"
  }
 },
 "nbformat": 4,
 "nbformat_minor": 2
}
